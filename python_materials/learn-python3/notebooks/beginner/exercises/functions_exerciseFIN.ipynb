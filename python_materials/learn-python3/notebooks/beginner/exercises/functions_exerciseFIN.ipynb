{
  "nbformat": 4,
  "nbformat_minor": 0,
  "metadata": {
    "kernelspec": {
      "display_name": "Python 3",
      "language": "python",
      "name": "python3"
    },
    "language_info": {
      "codemirror_mode": {
        "name": "ipython",
        "version": 3
      },
      "file_extension": ".py",
      "mimetype": "text/x-python",
      "name": "python",
      "nbconvert_exporter": "python",
      "pygments_lexer": "ipython3",
      "version": "3.5.4"
    },
    "colab": {
      "name": "functions_exercise.ipynb",
      "provenance": []
    }
  },
  "cells": [
    {
      "cell_type": "markdown",
      "metadata": {
        "id": "8Up7ujNeMJuA"
      },
      "source": [
        "# 1. Fill the missing pieces of the `count_even_numbers` function\n",
        "Fill `____` pieces of the `count_even_numbers` implemention in order to pass the assertions. You can assume that `numbers` argument is a list of integers."
      ]
    },
    {
      "cell_type": "code",
      "metadata": {
        "id": "lFTWdsdxMJuD"
      },
      "source": [
        "def count_even_numbers(numbers):\n",
        "    count = 0\n",
        "    for num in numbers:\n",
        "        if num % 2 == 0:\n",
        "            count += 1\n",
        "    return count"
      ],
      "execution_count": 2,
      "outputs": []
    },
    {
      "cell_type": "code",
      "metadata": {
        "editable": false,
        "id": "bYvwF6RjMJuD"
      },
      "source": [
        "assert count_even_numbers([1, 2, 3, 4, 5, 6]) == 3\n",
        "assert count_even_numbers([1, 3, 5, 7]) == 0\n",
        "assert count_even_numbers([-2, 2, -10, 8]) == 4"
      ],
      "execution_count": 4,
      "outputs": []
    },
    {
      "cell_type": "markdown",
      "metadata": {
        "id": "UBvwc9z8MJuE"
      },
      "source": [
        "# 2. Searching for wanted people\n",
        "Implement `find_wanted_people` function which takes a list of names (strings) as argument. The function should return a list of names which are present both in `WANTED_PEOPLE` and in the name list given as argument to the function."
      ]
    },
    {
      "cell_type": "code",
      "metadata": {
        "editable": false,
        "id": "3P8YFvLsMJuE"
      },
      "source": [
        "WANTED_PEOPLE = ['John Doe', 'Clint Eastwood', 'Chuck Norris']"
      ],
      "execution_count": 5,
      "outputs": []
    },
    {
      "cell_type": "code",
      "metadata": {
        "id": "WbFb4Hg_MJuF"
      },
      "source": [
        "def find_wanted_people(people_to_check):\n",
        "    wanted1 = []\n",
        "    for person in people_to_check:\n",
        "      if person in WANTED_PEOPLE:\n",
        "        wanted1.append(person)\n",
        "    return wanted1"
      ],
      "execution_count": 14,
      "outputs": []
    },
    {
      "cell_type": "code",
      "metadata": {
        "editable": false,
        "id": "0LXPe3mUMJuF"
      },
      "source": [
        "people_to_check1 = ['Donald Duck', 'Clint Eastwood', 'John Doe', 'Barack Obama']\n",
        "wanted1 = find_wanted_people(people_to_check1)\n",
        "assert len(wanted1) == 2\n",
        "assert 'John Doe' in wanted1\n",
        "assert 'Clint Eastwood'in wanted1\n",
        "\n",
        "people_to_check2 = ['Donald Duck', 'Mickey Mouse', 'Zorro', 'Superman', 'Robin Hood']\n",
        "wanted2 = find_wanted_people(people_to_check2)\n",
        "assert wanted2 == []"
      ],
      "execution_count": 15,
      "outputs": []
    },
    {
      "cell_type": "markdown",
      "metadata": {
        "id": "FhSk6nUPMJuG"
      },
      "source": [
        "# 3. Counting average length of words in a sentence\n",
        "Create a function `average_length_of_words` which takes a string as an argument and returns the average length of the words in the string. You can assume that there is a single space between each word and that the input does not have punctuation. The result should be rounded to one decimal place (hint: see [`round`](https://docs.python.org/3/library/functions.html#round))."
      ]
    },
    {
      "cell_type": "code",
      "metadata": {
        "id": "alk5f4BMMJuG"
      },
      "source": [
        "def average_length_of_words(string):\n",
        "  string1 = string.split()\n",
        "  wordCount = 0\n",
        "  totalLetters = 0\n",
        "  result = 0\n",
        "  if len(string) != 0:\n",
        "    for word in string1:\n",
        "      print(word)\n",
        "      wordCount += 1\n",
        "      totalLetters += len(word)\n",
        "    result = totalLetters / wordCount\n",
        "    result = round(result, 1)\n",
        "    print(result)\n",
        "  return result"
      ],
      "execution_count": 36,
      "outputs": []
    },
    {
      "cell_type": "code",
      "metadata": {
        "editable": false,
        "id": "D1NON48oMJuG",
        "outputId": "1a9e04d4-b474-4104-ab15-6e334baa3fa7",
        "colab": {
          "base_uri": "https://localhost:8080/"
        }
      },
      "source": [
        "assert average_length_of_words('only four lett erwo rdss') == 4\n",
        "assert average_length_of_words('one two three') == 3.7\n",
        "assert average_length_of_words('one two three four') == 3.8\n",
        "assert average_length_of_words('') == 0"
      ],
      "execution_count": 37,
      "outputs": [
        {
          "output_type": "stream",
          "text": [
            "only\n",
            "four\n",
            "lett\n",
            "erwo\n",
            "rdss\n",
            "4.0\n",
            "one\n",
            "two\n",
            "three\n",
            "3.7\n",
            "one\n",
            "two\n",
            "three\n",
            "four\n",
            "3.8\n"
          ],
          "name": "stdout"
        }
      ]
    }
  ]
}