{
  "nbformat": 4,
  "nbformat_minor": 0,
  "metadata": {
    "kernelspec": {
      "display_name": "Python 3",
      "language": "python",
      "name": "python3"
    },
    "language_info": {
      "codemirror_mode": {
        "name": "ipython",
        "version": 3
      },
      "file_extension": ".py",
      "mimetype": "text/x-python",
      "name": "python",
      "nbconvert_exporter": "python",
      "pygments_lexer": "ipython3",
      "version": "3.5.4"
    },
    "colab": {
      "name": "debugging_exercise.ipynb",
      "provenance": []
    }
  },
  "cells": [
    {
      "cell_type": "markdown",
      "metadata": {
        "id": "h8zMt2fAV4go"
      },
      "source": [
        "# 1. Identifying bugs in code\n",
        "The following `stripped_reversed_lowercase` function contains at least one bug. You can see this by running the code in the cell below which tests the functionality of the `stripped_reversed_lowercase` function.\n",
        "\n",
        "Set trace at the beginning of `stripped_reversed_lowercase` and use debugger to solve the bug(s). Execute the code line by line and print variables used in the function to understand what's going wrong. "
      ]
    },
    {
      "cell_type": "code",
      "metadata": {
        "id": "yoMuFjBjV4gw"
      },
      "source": [
        "def stripped_reversed_lowercase(original):\n",
        "    import pdb; pdb.set_trace()\n",
        "    # Set a breakpoint here and start debugging\n",
        "    stripped = original.lstrip()\n",
        "    reversed = ' '.join(reversed(stripped))\n",
        "    reversed.lower()\n",
        "    return reversed"
      ],
      "execution_count": 2,
      "outputs": []
    },
    {
      "cell_type": "code",
      "metadata": {
        "editable": false,
        "id": "ZKjBkkdKV4gx",
        "outputId": "e1e8517b-4d3f-435a-8767-51045fc9ce21",
        "colab": {
          "base_uri": "https://localhost:8080/"
        }
      },
      "source": [
        "# Let's verify it works\n",
        "original = ' \\n Original String '\n",
        "result = stripped_reversed_lowercase(original)\n",
        "assert result == 'gnirts lanigiro'"
      ],
      "execution_count": null,
      "outputs": [
        {
          "output_type": "stream",
          "text": [
            "> <ipython-input-2-c84326c41652>(4)stripped_reversed_lowercase()\n",
            "-> stripped = original.lstrip()\n",
            "(Pdb) n\n",
            "> <ipython-input-2-c84326c41652>(5)stripped_reversed_lowercase()\n",
            "-> reversed = ' '.join(reversed(stripped))\n",
            "(Pdb) n\n",
            "UnboundLocalError: local variable 'reversed' referenced before assignment\n",
            "> <ipython-input-2-c84326c41652>(5)stripped_reversed_lowercase()\n",
            "-> reversed = ' '.join(reversed(stripped))\n",
            "(Pdb) nn\n",
            "*** NameError: name 'nn' is not defined\n",
            "(Pdb) n\n",
            "--Return--\n",
            "> <ipython-input-2-c84326c41652>(5)stripped_reversed_lowercase()->None\n",
            "-> reversed = ' '.join(reversed(stripped))\n",
            "(Pdb) n\n",
            "UnboundLocalError: local variable 'reversed' referenced before assignment\n",
            "> <ipython-input-3-3031b3bca339>(3)<module>()\n",
            "-> result = stripped_reversed_lowercase(original)\n",
            "(Pdb) n\n",
            "--Return--\n",
            "> <ipython-input-3-3031b3bca339>(3)<module>()->None\n",
            "-> result = stripped_reversed_lowercase(original)\n",
            "(Pdb) n\n",
            "UnboundLocalError: local variable 'reversed' referenced before assignment\n",
            "> /usr/local/lib/python3.6/dist-packages/IPython/core/interactiveshell.py(2882)run_code()\n",
            "-> exec(code_obj, self.user_global_ns, self.user_ns)\n",
            "(Pdb) n\n",
            "> /usr/local/lib/python3.6/dist-packages/IPython/core/interactiveshell.py(2885)run_code()\n",
            "-> sys.excepthook = old_excepthook\n",
            "(Pdb) n\n",
            "> /usr/local/lib/python3.6/dist-packages/IPython/core/interactiveshell.py(2886)run_code()\n",
            "-> except SystemExit as e:\n"
          ],
          "name": "stdout"
        }
      ]
    },
    {
      "cell_type": "code",
      "metadata": {
        "id": "cGYgbHHgXRqg"
      },
      "source": [
        "UnboundLocalError: local variable 'reversed' referenced before assignment\n",
        "> /usr/local/lib/python3.6/dist-packages/IPython/core/interactiveshell.py(2882)run_code()\n",
        "-> exec(code_obj, self.user_global_ns, self.user_ns)"
      ],
      "execution_count": null,
      "outputs": []
    }
  ]
}